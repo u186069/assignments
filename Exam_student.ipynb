{
 "cells": [
  {
   "cell_type": "markdown",
   "metadata": {},
   "source": [
    "# Exam R\n",
    "Mark Klik & Misja Mikkers\n",
    "\n",
    "# Introduction\n",
    "\n",
    "The exam consists of 2 parts. In the first part, you have to run a regression, test if the assumptions of a linear regression model are met, and make 2 graphs.\n",
    "\n",
    "In the second part of the exam, you will have to make a map of Catholic and Protestant schools in the Netherlands.\n",
    "\n",
    "# Packages\n"
   ]
  },
  {
   "cell_type": "code",
   "execution_count": 14,
   "metadata": {},
   "outputs": [],
   "source": [
    "library(tidyverse)\n",
    "library(gvlma)"
   ]
  },
  {
   "cell_type": "markdown",
   "metadata": {},
   "source": [
    "# Assignment 1\n",
    "\n",
    "\n",
    "## Data\n",
    "\n",
    "The data are given:\n"
   ]
  },
  {
   "cell_type": "code",
   "execution_count": 15,
   "metadata": {},
   "outputs": [],
   "source": [
    "set.seed(123)\n",
    "df1 <- as.data.frame(matrix(runif(1*50, min = 1, max = 10), ncol = 1)) %>%\n",
    "    mutate(epsilon = rnorm(50, mean = 0, sd = 2)) %>%\n",
    "    mutate(response = 3 - 2* V1  + epsilon) %>%\n",
    "    mutate(group = ifelse(V1 <= 5, 1,2))"
   ]
  },
  {
   "cell_type": "markdown",
   "metadata": {},
   "source": [
    "## Assignment 1a\n",
    "\n",
    "The first assigment is to make boxplot using ggplot with group on the x-axis and V1 on the y-axis."
   ]
  },
  {
   "cell_type": "code",
   "execution_count": 16,
   "metadata": {},
   "outputs": [
    {
     "data": {},
     "metadata": {},
     "output_type": "display_data"
    },
    {
     "data": {
      "image/png": "[encoded data removed]",
      "text/plain": [
       "plot without title"
      ]
     },
     "metadata": {},
     "output_type": "display_data"
    }
   ],
   "source": [
    "df1$group <- factor(df1$group,\n",
    "                   labels = c('1', '2'))\n",
    "boxplot <- ggplot(df1, aes(x= group , y= V1)) + \n",
    "  geom_boxplot()\n",
    "boxplot"
   ]
  },
  {
   "cell_type": "markdown",
   "metadata": {},
   "source": [
    "## Assignment 1b\n",
    "\n",
    "Run a regression with response variable as a function of V1.\n",
    "Show the summary statistics of the regression.\n"
   ]
  },
  {
   "cell_type": "code",
   "execution_count": 17,
   "metadata": {},
   "outputs": [
    {
     "data": {
      "text/plain": [
       "\n",
       "Call:\n",
       "lm(formula = V1 ~ group, data = df1)\n",
       "\n",
       "Residuals:\n",
       "     Min       1Q   Median       3Q      Max \n",
       "-2.49501 -1.05796  0.02595  1.34275  2.37341 \n",
       "\n",
       "Coefficients:\n",
       "            Estimate Std. Error t value Pr(>|t|)    \n",
       "(Intercept)   3.0650     0.3086   9.932 3.16e-13 ***\n",
       "group2        4.5100     0.4052  11.130 6.78e-15 ***\n",
       "---\n",
       "Signif. codes:  0 '***' 0.001 '**' 0.01 '*' 0.05 '.' 0.1 ' ' 1\n",
       "\n",
       "Residual standard error: 1.414 on 48 degrees of freedom\n",
       "Multiple R-squared:  0.7207,\tAdjusted R-squared:  0.7149 \n",
       "F-statistic: 123.9 on 1 and 48 DF,  p-value: 6.783e-15\n"
      ]
     },
     "metadata": {},
     "output_type": "display_data"
    }
   ],
   "source": [
    "reg1 <- lm(data = df1, V1 ~ group)\n",
    "summary(reg1)"
   ]
  },
  {
   "cell_type": "markdown",
   "metadata": {},
   "source": [
    "check if the assumptions of linear regression are met with the `gvlma()` function."
   ]
  },
  {
   "cell_type": "code",
   "execution_count": 18,
   "metadata": {},
   "outputs": [
    {
     "data": {
      "text/plain": [
       "\n",
       "Call:\n",
       "lm(formula = V1 ~ group, data = df1)\n",
       "\n",
       "Coefficients:\n",
       "(Intercept)       group2  \n",
       "      3.065        4.510  \n",
       "\n",
       "\n",
       "ASSESSMENT OF THE LINEAR MODEL ASSUMPTIONS\n",
       "USING THE GLOBAL TEST ON 4 DEGREES-OF-FREEDOM:\n",
       "Level of Significance =  0.05 \n",
       "\n",
       "Call:\n",
       " gvlma(x = reg1) \n",
       "\n",
       "                       Value p-value                Decision\n",
       "Global Stat        3.756e+00  0.4401 Assumptions acceptable.\n",
       "Skewness           1.037e-01  0.7474 Assumptions acceptable.\n",
       "Kurtosis           2.627e+00  0.1050 Assumptions acceptable.\n",
       "Link Function      4.111e-16  1.0000 Assumptions acceptable.\n",
       "Heteroscedasticity 1.025e+00  0.3114 Assumptions acceptable."
      ]
     },
     "metadata": {},
     "output_type": "display_data"
    }
   ],
   "source": [
    "gvlma(reg1)"
   ]
  },
  {
   "cell_type": "markdown",
   "metadata": {},
   "source": [
    "## Assignment 1c\n",
    "\n",
    "Make a scatterplot with: \n",
    "* V1 on the x-axis and the response on the y-axis\n",
    "* Include the regression line in red with confidence interval \n",
    "* In a classic theme\n",
    "* The x-axis should be labeled \"Predictor\", the y-axis should be labeled (\"Response\")\n",
    "\n"
   ]
  },
  {
   "cell_type": "code",
   "execution_count": 19,
   "metadata": {},
   "outputs": [
    {
     "data": {},
     "metadata": {},
     "output_type": "display_data"
    },
    {
     "data": {
      "image/png": "[encoded data removed]",
      "text/plain": [
       "plot without title"
      ]
     },
     "metadata": {},
     "output_type": "display_data"
    }
   ],
   "source": [
    "scatterplot <- ggplot(df1, aes(x=V1, y=response)) + geom_point() +\n",
    "geom_smooth(method = 'lm', se = TRUE, color = 'red', level = 0.95) +\n",
    "theme(legend.position=\"classic\") \n",
    "\n",
    "scatterplot"
   ]
  },
  {
   "cell_type": "markdown",
   "metadata": {},
   "source": [
    "# Assigment 2\n",
    "\n",
    "# Packages"
   ]
  },
  {
   "cell_type": "code",
   "execution_count": 52,
   "metadata": {},
   "outputs": [
    {
     "name": "stderr",
     "output_type": "stream",
     "text": [
      "Warning message:\n",
      "\"running command '\"C:/Users/Gebruiker/Anaconda3/lib/R/bin/x64/R\" CMD INSTALL -l \"C:\\Users\\Gebruiker\\Anaconda3\\Lib\\R\\library\" \"../Package//thematicmaps_2.1.tar.gz\"' had status 1\"Warning message in install.packages(\"../Package//thematicmaps_2.1.tar.gz\", repos = NULL, :\n",
      "\"installation of package '../Package//thematicmaps_2.1.tar.gz' had non-zero exit status\""
     ]
    }
   ],
   "source": [
    "install.packages(\"../Package//thematicmaps_2.1.tar.gz\", repos = NULL, type = \"source\")"
   ]
  },
  {
   "cell_type": "code",
   "execution_count": 53,
   "metadata": {},
   "outputs": [
    {
     "ename": "ERROR",
     "evalue": "Error in library(thematicmaps): there is no package called 'thematicmaps'\n",
     "output_type": "error",
     "traceback": [
      "Error in library(thematicmaps): there is no package called 'thematicmaps'\nTraceback:\n",
      "1. library(thematicmaps)",
      "2. stop(txt, domain = NA)"
     ]
    }
   ],
   "source": [
    "library(thematicmaps)\n",
    "library(tidyverse)"
   ]
  },
  {
   "cell_type": "markdown",
   "metadata": {},
   "source": [
    "## Assignment 2a\n",
    "\n",
    "First you have to read in the file \"nld_municipal_map.csv\".\n",
    "Hint: Look at the notebook of week 6 about maps."
   ]
  },
  {
   "cell_type": "code",
   "execution_count": 49,
   "metadata": {
    "scrolled": true
   },
   "outputs": [
    {
     "data": {
      "text/html": [
       "<table>\n",
       "<thead><tr><th scope=col>name</th><th scope=col>id</th><th scope=col>x</th><th scope=col>y</th><th scope=col>order</th><th scope=col>hole</th><th scope=col>piece</th><th scope=col>group</th></tr></thead>\n",
       "<tbody>\n",
       "\t<tr><td>Appingedam      </td><td>0               </td><td>251260.527548325</td><td>594393.827234474</td><td> 1              </td><td>FALSE           </td><td>1               </td><td>0.1             </td></tr>\n",
       "\t<tr><td>Appingedam      </td><td>0               </td><td>251427.775868901</td><td>594486.747111725</td><td> 2              </td><td>FALSE           </td><td>1               </td><td>0.1             </td></tr>\n",
       "\t<tr><td>Appingedam      </td><td>0               </td><td>251668.842999999</td><td>594646.77       </td><td> 3              </td><td>FALSE           </td><td>1               </td><td>0.1             </td></tr>\n",
       "\t<tr><td>Appingedam      </td><td>0               </td><td>251713.521000002</td><td>594770.885000002</td><td> 4              </td><td>FALSE           </td><td>1               </td><td>0.1             </td></tr>\n",
       "\t<tr><td>Appingedam      </td><td>0               </td><td>251354.585000001</td><td>595461.381999999</td><td> 5              </td><td>FALSE           </td><td>1               </td><td>0.1             </td></tr>\n",
       "\t<tr><td>Appingedam      </td><td>0               </td><td>251310.272      </td><td>596022.542      </td><td> 6              </td><td>FALSE           </td><td>1               </td><td>0.1             </td></tr>\n",
       "\t<tr><td>Appingedam      </td><td>0               </td><td>251378.348000001</td><td>596179.600000002</td><td> 7              </td><td>FALSE           </td><td>1               </td><td>0.1             </td></tr>\n",
       "\t<tr><td>Appingedam      </td><td>0               </td><td>251581.159000002</td><td>596364.682      </td><td> 8              </td><td>FALSE           </td><td>1               </td><td>0.1             </td></tr>\n",
       "\t<tr><td>Appingedam      </td><td>0               </td><td>251857.594000001</td><td>596435.456      </td><td> 9              </td><td>FALSE           </td><td>1               </td><td>0.1             </td></tr>\n",
       "\t<tr><td>Appingedam      </td><td>0               </td><td>251999.263      </td><td>596313.167      </td><td>10              </td><td>FALSE           </td><td>1               </td><td>0.1             </td></tr>\n",
       "\t<tr><td>Appingedam      </td><td>0               </td><td>252522.096999999</td><td>596317.759      </td><td>11              </td><td>FALSE           </td><td>1               </td><td>0.1             </td></tr>\n",
       "\t<tr><td>Appingedam      </td><td>0               </td><td>253549.285      </td><td>596082.982999999</td><td>12              </td><td>FALSE           </td><td>1               </td><td>0.1             </td></tr>\n",
       "\t<tr><td>Appingedam      </td><td>0               </td><td>254010.476      </td><td>596199.699000001</td><td>13              </td><td>FALSE           </td><td>1               </td><td>0.1             </td></tr>\n",
       "\t<tr><td>Appingedam      </td><td>0               </td><td>254110.228999998</td><td>596684.640999999</td><td>14              </td><td>FALSE           </td><td>1               </td><td>0.1             </td></tr>\n",
       "\t<tr><td>Appingedam      </td><td>0               </td><td>254774.545604002</td><td>596453.068541507</td><td>15              </td><td>FALSE           </td><td>1               </td><td>0.1             </td></tr>\n",
       "\t<tr><td>Appingedam      </td><td>0               </td><td>254793.855      </td><td>596044.447999999</td><td>16              </td><td>FALSE           </td><td>1               </td><td>0.1             </td></tr>\n",
       "\t<tr><td>Appingedam      </td><td>0               </td><td>254603.842      </td><td>595659.224      </td><td>17              </td><td>FALSE           </td><td>1               </td><td>0.1             </td></tr>\n",
       "\t<tr><td>Appingedam      </td><td>0               </td><td>254580.674329913</td><td>594573.505689645</td><td>18              </td><td>FALSE           </td><td>1               </td><td>0.1             </td></tr>\n",
       "\t<tr><td>Appingedam      </td><td>0               </td><td>254695.945764942</td><td>594020.436783596</td><td>19              </td><td>FALSE           </td><td>1               </td><td>0.1             </td></tr>\n",
       "\t<tr><td>Appingedam      </td><td>0               </td><td>254684.212000001</td><td>593252.835999999</td><td>20              </td><td>FALSE           </td><td>1               </td><td>0.1             </td></tr>\n",
       "\t<tr><td>Appingedam      </td><td>0               </td><td>254809.05987424 </td><td>592703.148436198</td><td>21              </td><td>FALSE           </td><td>1               </td><td>0.1             </td></tr>\n",
       "\t<tr><td>Appingedam      </td><td>0               </td><td>254983.248221657</td><td>592485.982680961</td><td>22              </td><td>FALSE           </td><td>1               </td><td>0.1             </td></tr>\n",
       "\t<tr><td>Appingedam      </td><td>0               </td><td>255039.969000001</td><td>592374.046999998</td><td>23              </td><td>FALSE           </td><td>1               </td><td>0.1             </td></tr>\n",
       "\t<tr><td>Appingedam      </td><td>0               </td><td>255019.624100701</td><td>591246.293555302</td><td>24              </td><td>FALSE           </td><td>1               </td><td>0.1             </td></tr>\n",
       "\t<tr><td>Appingedam      </td><td>0               </td><td>254500.664000001</td><td>591182.758000001</td><td>25              </td><td>FALSE           </td><td>1               </td><td>0.1             </td></tr>\n",
       "\t<tr><td>Appingedam      </td><td>0               </td><td>254241.324999999</td><td>590981.508000001</td><td>26              </td><td>FALSE           </td><td>1               </td><td>0.1             </td></tr>\n",
       "\t<tr><td>Appingedam      </td><td>0               </td><td>254078.017000001</td><td>591023.07       </td><td>27              </td><td>FALSE           </td><td>1               </td><td>0.1             </td></tr>\n",
       "\t<tr><td>Appingedam      </td><td>0               </td><td>253248.169      </td><td>590838.27       </td><td>28              </td><td>FALSE           </td><td>1               </td><td>0.1             </td></tr>\n",
       "\t<tr><td>Appingedam      </td><td>0               </td><td>253213.868999999</td><td>590986.602000002</td><td>29              </td><td>FALSE           </td><td>1               </td><td>0.1             </td></tr>\n",
       "\t<tr><td>Appingedam      </td><td>0               </td><td>252642.484999999</td><td>591018.063999999</td><td>30              </td><td>FALSE           </td><td>1               </td><td>0.1             </td></tr>\n",
       "\t<tr><td>...</td><td>...</td><td>...</td><td>...</td><td>...</td><td>...</td><td>...</td><td>...</td></tr>\n",
       "\t<tr><td>Menterwolde     </td><td>402             </td><td>257780.110712518</td><td>579718.625658015</td><td>68              </td><td>FALSE           </td><td>1               </td><td>402.1           </td></tr>\n",
       "\t<tr><td>Menterwolde     </td><td>402             </td><td>257626.57       </td><td>579317.969999999</td><td>69              </td><td>FALSE           </td><td>1               </td><td>402.1           </td></tr>\n",
       "\t<tr><td>Menterwolde     </td><td>402             </td><td>257357.91       </td><td>579391.66       </td><td>70              </td><td>FALSE           </td><td>1               </td><td>402.1           </td></tr>\n",
       "\t<tr><td>Menterwolde     </td><td>402             </td><td>257171.870000001</td><td>579041.07       </td><td>71              </td><td>FALSE           </td><td>1               </td><td>402.1           </td></tr>\n",
       "\t<tr><td>Menterwolde     </td><td>402             </td><td>257057.331504354</td><td>578462.329653179</td><td>72              </td><td>FALSE           </td><td>1               </td><td>402.1           </td></tr>\n",
       "\t<tr><td>Menterwolde     </td><td>402             </td><td>256906.600000002</td><td>578256.77       </td><td>73              </td><td>FALSE           </td><td>1               </td><td>402.1           </td></tr>\n",
       "\t<tr><td>Menterwolde     </td><td>402             </td><td>256907.190000001</td><td>577969.559999999</td><td>74              </td><td>FALSE           </td><td>1               </td><td>402.1           </td></tr>\n",
       "\t<tr><td>Menterwolde     </td><td>402             </td><td>257016.760000002</td><td>577777.190000001</td><td>75              </td><td>FALSE           </td><td>1               </td><td>402.1           </td></tr>\n",
       "\t<tr><td>Menterwolde     </td><td>402             </td><td>256983.710000001</td><td>577628.300000001</td><td>76              </td><td>FALSE           </td><td>1               </td><td>402.1           </td></tr>\n",
       "\t<tr><td>Menterwolde     </td><td>402             </td><td>256701.68       </td><td>577479.230000001</td><td>77              </td><td>FALSE           </td><td>1               </td><td>402.1           </td></tr>\n",
       "\t<tr><td>Menterwolde     </td><td>402             </td><td>256659.295000002</td><td>576968.096000001</td><td>78              </td><td>FALSE           </td><td>1               </td><td>402.1           </td></tr>\n",
       "\t<tr><td>Menterwolde     </td><td>402             </td><td>256397.955628343</td><td>576597.851286975</td><td>79              </td><td>FALSE           </td><td>1               </td><td>402.1           </td></tr>\n",
       "\t<tr><td>Menterwolde     </td><td>402             </td><td>258119.392000001</td><td>576915.061000001</td><td>80              </td><td>FALSE           </td><td>1               </td><td>402.1           </td></tr>\n",
       "\t<tr><td>Menterwolde     </td><td>402             </td><td>258179.440000001</td><td>576510.083000001</td><td>81              </td><td>FALSE           </td><td>1               </td><td>402.1           </td></tr>\n",
       "\t<tr><td>Menterwolde     </td><td>402             </td><td>258995.693735312</td><td>576646.695798352</td><td>82              </td><td>FALSE           </td><td>1               </td><td>402.1           </td></tr>\n",
       "\t<tr><td>Menterwolde     </td><td>402             </td><td>259112.752      </td><td>575824.800000001</td><td>83              </td><td>FALSE           </td><td>1               </td><td>402.1           </td></tr>\n",
       "\t<tr><td>Menterwolde     </td><td>402             </td><td>259556.024      </td><td>575811.649      </td><td>84              </td><td>FALSE           </td><td>1               </td><td>402.1           </td></tr>\n",
       "\t<tr><td>Menterwolde     </td><td>402             </td><td>259879.827      </td><td>574051.061000001</td><td>85              </td><td>FALSE           </td><td>1               </td><td>402.1           </td></tr>\n",
       "\t<tr><td>Menterwolde     </td><td>402             </td><td>259892.204      </td><td>573383.074999999</td><td>86              </td><td>FALSE           </td><td>1               </td><td>402.1           </td></tr>\n",
       "\t<tr><td>Menterwolde     </td><td>402             </td><td>260015.6383729  </td><td>573223.285349328</td><td>87              </td><td>FALSE           </td><td>1               </td><td>402.1           </td></tr>\n",
       "\t<tr><td>Menterwolde     </td><td>402             </td><td>260025.379687273</td><td>573103.354818349</td><td>88              </td><td>FALSE           </td><td>1               </td><td>402.1           </td></tr>\n",
       "\t<tr><td>Menterwolde     </td><td>402             </td><td>260330.940000001</td><td>572041.822999999</td><td>89              </td><td>FALSE           </td><td>1               </td><td>402.1           </td></tr>\n",
       "\t<tr><td>Menterwolde     </td><td>402             </td><td>260277.063000001</td><td>571993.442000002</td><td>90              </td><td>FALSE           </td><td>1               </td><td>402.1           </td></tr>\n",
       "\t<tr><td>Menterwolde     </td><td>402             </td><td>260699.855      </td><td>570643.794      </td><td>91              </td><td>FALSE           </td><td>1               </td><td>402.1           </td></tr>\n",
       "\t<tr><td>Menterwolde     </td><td>402             </td><td>260668.811999999</td><td>570494.938000001</td><td>92              </td><td>FALSE           </td><td>1               </td><td>402.1           </td></tr>\n",
       "\t<tr><td>Menterwolde     </td><td>402             </td><td>260432.453000002</td><td>570399.625      </td><td>93              </td><td>FALSE           </td><td>1               </td><td>402.1           </td></tr>\n",
       "\t<tr><td>Menterwolde     </td><td>402             </td><td>260230.522      </td><td>571527.787000001</td><td>94              </td><td>FALSE           </td><td>1               </td><td>402.1           </td></tr>\n",
       "\t<tr><td>Menterwolde     </td><td>402             </td><td>259417.649617787</td><td>571638.612991686</td><td>95              </td><td>FALSE           </td><td>1               </td><td>402.1           </td></tr>\n",
       "\t<tr><td>Menterwolde     </td><td>402             </td><td>258595.390999999</td><td>571931.800999999</td><td>96              </td><td>FALSE           </td><td>1               </td><td>402.1           </td></tr>\n",
       "\t<tr><td>Menterwolde     </td><td>402             </td><td>256514.48939101 </td><td>572263.8641319  </td><td>97              </td><td>FALSE           </td><td>1               </td><td>402.1           </td></tr>\n",
       "</tbody>\n",
       "</table>\n"
      ],
      "text/latex": [
       "\\begin{tabular}{r|llllllll}\n",
       " name & id & x & y & order & hole & piece & group\\\\\n",
       "\\hline\n",
       "\t Appingedam       & 0                & 251260.527548325 & 594393.827234474 &  1               & FALSE            & 1                & 0.1             \\\\\n",
       "\t Appingedam       & 0                & 251427.775868901 & 594486.747111725 &  2               & FALSE            & 1                & 0.1             \\\\\n",
       "\t Appingedam       & 0                & 251668.842999999 & 594646.77        &  3               & FALSE            & 1                & 0.1             \\\\\n",
       "\t Appingedam       & 0                & 251713.521000002 & 594770.885000002 &  4               & FALSE            & 1                & 0.1             \\\\\n",
       "\t Appingedam       & 0                & 251354.585000001 & 595461.381999999 &  5               & FALSE            & 1                & 0.1             \\\\\n",
       "\t Appingedam       & 0                & 251310.272       & 596022.542       &  6               & FALSE            & 1                & 0.1             \\\\\n",
       "\t Appingedam       & 0                & 251378.348000001 & 596179.600000002 &  7               & FALSE            & 1                & 0.1             \\\\\n",
       "\t Appingedam       & 0                & 251581.159000002 & 596364.682       &  8               & FALSE            & 1                & 0.1             \\\\\n",
       "\t Appingedam       & 0                & 251857.594000001 & 596435.456       &  9               & FALSE            & 1                & 0.1             \\\\\n",
       "\t Appingedam       & 0                & 251999.263       & 596313.167       & 10               & FALSE            & 1                & 0.1             \\\\\n",
       "\t Appingedam       & 0                & 252522.096999999 & 596317.759       & 11               & FALSE            & 1                & 0.1             \\\\\n",
       "\t Appingedam       & 0                & 253549.285       & 596082.982999999 & 12               & FALSE            & 1                & 0.1             \\\\\n",
       "\t Appingedam       & 0                & 254010.476       & 596199.699000001 & 13               & FALSE            & 1                & 0.1             \\\\\n",
       "\t Appingedam       & 0                & 254110.228999998 & 596684.640999999 & 14               & FALSE            & 1                & 0.1             \\\\\n",
       "\t Appingedam       & 0                & 254774.545604002 & 596453.068541507 & 15               & FALSE            & 1                & 0.1             \\\\\n",
       "\t Appingedam       & 0                & 254793.855       & 596044.447999999 & 16               & FALSE            & 1                & 0.1             \\\\\n",
       "\t Appingedam       & 0                & 254603.842       & 595659.224       & 17               & FALSE            & 1                & 0.1             \\\\\n",
       "\t Appingedam       & 0                & 254580.674329913 & 594573.505689645 & 18               & FALSE            & 1                & 0.1             \\\\\n",
       "\t Appingedam       & 0                & 254695.945764942 & 594020.436783596 & 19               & FALSE            & 1                & 0.1             \\\\\n",
       "\t Appingedam       & 0                & 254684.212000001 & 593252.835999999 & 20               & FALSE            & 1                & 0.1             \\\\\n",
       "\t Appingedam       & 0                & 254809.05987424  & 592703.148436198 & 21               & FALSE            & 1                & 0.1             \\\\\n",
       "\t Appingedam       & 0                & 254983.248221657 & 592485.982680961 & 22               & FALSE            & 1                & 0.1             \\\\\n",
       "\t Appingedam       & 0                & 255039.969000001 & 592374.046999998 & 23               & FALSE            & 1                & 0.1             \\\\\n",
       "\t Appingedam       & 0                & 255019.624100701 & 591246.293555302 & 24               & FALSE            & 1                & 0.1             \\\\\n",
       "\t Appingedam       & 0                & 254500.664000001 & 591182.758000001 & 25               & FALSE            & 1                & 0.1             \\\\\n",
       "\t Appingedam       & 0                & 254241.324999999 & 590981.508000001 & 26               & FALSE            & 1                & 0.1             \\\\\n",
       "\t Appingedam       & 0                & 254078.017000001 & 591023.07        & 27               & FALSE            & 1                & 0.1             \\\\\n",
       "\t Appingedam       & 0                & 253248.169       & 590838.27        & 28               & FALSE            & 1                & 0.1             \\\\\n",
       "\t Appingedam       & 0                & 253213.868999999 & 590986.602000002 & 29               & FALSE            & 1                & 0.1             \\\\\n",
       "\t Appingedam       & 0                & 252642.484999999 & 591018.063999999 & 30               & FALSE            & 1                & 0.1             \\\\\n",
       "\t ... & ... & ... & ... & ... & ... & ... & ...\\\\\n",
       "\t Menterwolde      & 402              & 257780.110712518 & 579718.625658015 & 68               & FALSE            & 1                & 402.1           \\\\\n",
       "\t Menterwolde      & 402              & 257626.57        & 579317.969999999 & 69               & FALSE            & 1                & 402.1           \\\\\n",
       "\t Menterwolde      & 402              & 257357.91        & 579391.66        & 70               & FALSE            & 1                & 402.1           \\\\\n",
       "\t Menterwolde      & 402              & 257171.870000001 & 579041.07        & 71               & FALSE            & 1                & 402.1           \\\\\n",
       "\t Menterwolde      & 402              & 257057.331504354 & 578462.329653179 & 72               & FALSE            & 1                & 402.1           \\\\\n",
       "\t Menterwolde      & 402              & 256906.600000002 & 578256.77        & 73               & FALSE            & 1                & 402.1           \\\\\n",
       "\t Menterwolde      & 402              & 256907.190000001 & 577969.559999999 & 74               & FALSE            & 1                & 402.1           \\\\\n",
       "\t Menterwolde      & 402              & 257016.760000002 & 577777.190000001 & 75               & FALSE            & 1                & 402.1           \\\\\n",
       "\t Menterwolde      & 402              & 256983.710000001 & 577628.300000001 & 76               & FALSE            & 1                & 402.1           \\\\\n",
       "\t Menterwolde      & 402              & 256701.68        & 577479.230000001 & 77               & FALSE            & 1                & 402.1           \\\\\n",
       "\t Menterwolde      & 402              & 256659.295000002 & 576968.096000001 & 78               & FALSE            & 1                & 402.1           \\\\\n",
       "\t Menterwolde      & 402              & 256397.955628343 & 576597.851286975 & 79               & FALSE            & 1                & 402.1           \\\\\n",
       "\t Menterwolde      & 402              & 258119.392000001 & 576915.061000001 & 80               & FALSE            & 1                & 402.1           \\\\\n",
       "\t Menterwolde      & 402              & 258179.440000001 & 576510.083000001 & 81               & FALSE            & 1                & 402.1           \\\\\n",
       "\t Menterwolde      & 402              & 258995.693735312 & 576646.695798352 & 82               & FALSE            & 1                & 402.1           \\\\\n",
       "\t Menterwolde      & 402              & 259112.752       & 575824.800000001 & 83               & FALSE            & 1                & 402.1           \\\\\n",
       "\t Menterwolde      & 402              & 259556.024       & 575811.649       & 84               & FALSE            & 1                & 402.1           \\\\\n",
       "\t Menterwolde      & 402              & 259879.827       & 574051.061000001 & 85               & FALSE            & 1                & 402.1           \\\\\n",
       "\t Menterwolde      & 402              & 259892.204       & 573383.074999999 & 86               & FALSE            & 1                & 402.1           \\\\\n",
       "\t Menterwolde      & 402              & 260015.6383729   & 573223.285349328 & 87               & FALSE            & 1                & 402.1           \\\\\n",
       "\t Menterwolde      & 402              & 260025.379687273 & 573103.354818349 & 88               & FALSE            & 1                & 402.1           \\\\\n",
       "\t Menterwolde      & 402              & 260330.940000001 & 572041.822999999 & 89               & FALSE            & 1                & 402.1           \\\\\n",
       "\t Menterwolde      & 402              & 260277.063000001 & 571993.442000002 & 90               & FALSE            & 1                & 402.1           \\\\\n",
       "\t Menterwolde      & 402              & 260699.855       & 570643.794       & 91               & FALSE            & 1                & 402.1           \\\\\n",
       "\t Menterwolde      & 402              & 260668.811999999 & 570494.938000001 & 92               & FALSE            & 1                & 402.1           \\\\\n",
       "\t Menterwolde      & 402              & 260432.453000002 & 570399.625       & 93               & FALSE            & 1                & 402.1           \\\\\n",
       "\t Menterwolde      & 402              & 260230.522       & 571527.787000001 & 94               & FALSE            & 1                & 402.1           \\\\\n",
       "\t Menterwolde      & 402              & 259417.649617787 & 571638.612991686 & 95               & FALSE            & 1                & 402.1           \\\\\n",
       "\t Menterwolde      & 402              & 258595.390999999 & 571931.800999999 & 96               & FALSE            & 1                & 402.1           \\\\\n",
       "\t Menterwolde      & 402              & 256514.48939101  & 572263.8641319   & 97               & FALSE            & 1                & 402.1           \\\\\n",
       "\\end{tabular}\n"
      ],
      "text/markdown": [
       "\n",
       "name | id | x | y | order | hole | piece | group | \n",
       "|---|---|---|---|---|---|---|---|---|---|---|---|---|---|---|---|---|---|---|---|---|---|---|---|---|---|---|---|---|---|---|---|---|---|---|---|---|---|---|---|---|---|---|---|---|---|---|---|---|---|---|---|---|---|---|---|---|---|---|---|---|\n",
       "| Appingedam       | 0                | 251260.527548325 | 594393.827234474 |  1               | FALSE            | 1                | 0.1              | \n",
       "| Appingedam       | 0                | 251427.775868901 | 594486.747111725 |  2               | FALSE            | 1                | 0.1              | \n",
       "| Appingedam       | 0                | 251668.842999999 | 594646.77        |  3               | FALSE            | 1                | 0.1              | \n",
       "| Appingedam       | 0                | 251713.521000002 | 594770.885000002 |  4               | FALSE            | 1                | 0.1              | \n",
       "| Appingedam       | 0                | 251354.585000001 | 595461.381999999 |  5               | FALSE            | 1                | 0.1              | \n",
       "| Appingedam       | 0                | 251310.272       | 596022.542       |  6               | FALSE            | 1                | 0.1              | \n",
       "| Appingedam       | 0                | 251378.348000001 | 596179.600000002 |  7               | FALSE            | 1                | 0.1              | \n",
       "| Appingedam       | 0                | 251581.159000002 | 596364.682       |  8               | FALSE            | 1                | 0.1              | \n",
       "| Appingedam       | 0                | 251857.594000001 | 596435.456       |  9               | FALSE            | 1                | 0.1              | \n",
       "| Appingedam       | 0                | 251999.263       | 596313.167       | 10               | FALSE            | 1                | 0.1              | \n",
       "| Appingedam       | 0                | 252522.096999999 | 596317.759       | 11               | FALSE            | 1                | 0.1              | \n",
       "| Appingedam       | 0                | 253549.285       | 596082.982999999 | 12               | FALSE            | 1                | 0.1              | \n",
       "| Appingedam       | 0                | 254010.476       | 596199.699000001 | 13               | FALSE            | 1                | 0.1              | \n",
       "| Appingedam       | 0                | 254110.228999998 | 596684.640999999 | 14               | FALSE            | 1                | 0.1              | \n",
       "| Appingedam       | 0                | 254774.545604002 | 596453.068541507 | 15               | FALSE            | 1                | 0.1              | \n",
       "| Appingedam       | 0                | 254793.855       | 596044.447999999 | 16               | FALSE            | 1                | 0.1              | \n",
       "| Appingedam       | 0                | 254603.842       | 595659.224       | 17               | FALSE            | 1                | 0.1              | \n",
       "| Appingedam       | 0                | 254580.674329913 | 594573.505689645 | 18               | FALSE            | 1                | 0.1              | \n",
       "| Appingedam       | 0                | 254695.945764942 | 594020.436783596 | 19               | FALSE            | 1                | 0.1              | \n",
       "| Appingedam       | 0                | 254684.212000001 | 593252.835999999 | 20               | FALSE            | 1                | 0.1              | \n",
       "| Appingedam       | 0                | 254809.05987424  | 592703.148436198 | 21               | FALSE            | 1                | 0.1              | \n",
       "| Appingedam       | 0                | 254983.248221657 | 592485.982680961 | 22               | FALSE            | 1                | 0.1              | \n",
       "| Appingedam       | 0                | 255039.969000001 | 592374.046999998 | 23               | FALSE            | 1                | 0.1              | \n",
       "| Appingedam       | 0                | 255019.624100701 | 591246.293555302 | 24               | FALSE            | 1                | 0.1              | \n",
       "| Appingedam       | 0                | 254500.664000001 | 591182.758000001 | 25               | FALSE            | 1                | 0.1              | \n",
       "| Appingedam       | 0                | 254241.324999999 | 590981.508000001 | 26               | FALSE            | 1                | 0.1              | \n",
       "| Appingedam       | 0                | 254078.017000001 | 591023.07        | 27               | FALSE            | 1                | 0.1              | \n",
       "| Appingedam       | 0                | 253248.169       | 590838.27        | 28               | FALSE            | 1                | 0.1              | \n",
       "| Appingedam       | 0                | 253213.868999999 | 590986.602000002 | 29               | FALSE            | 1                | 0.1              | \n",
       "| Appingedam       | 0                | 252642.484999999 | 591018.063999999 | 30               | FALSE            | 1                | 0.1              | \n",
       "| ... | ... | ... | ... | ... | ... | ... | ... | \n",
       "| Menterwolde      | 402              | 257780.110712518 | 579718.625658015 | 68               | FALSE            | 1                | 402.1            | \n",
       "| Menterwolde      | 402              | 257626.57        | 579317.969999999 | 69               | FALSE            | 1                | 402.1            | \n",
       "| Menterwolde      | 402              | 257357.91        | 579391.66        | 70               | FALSE            | 1                | 402.1            | \n",
       "| Menterwolde      | 402              | 257171.870000001 | 579041.07        | 71               | FALSE            | 1                | 402.1            | \n",
       "| Menterwolde      | 402              | 257057.331504354 | 578462.329653179 | 72               | FALSE            | 1                | 402.1            | \n",
       "| Menterwolde      | 402              | 256906.600000002 | 578256.77        | 73               | FALSE            | 1                | 402.1            | \n",
       "| Menterwolde      | 402              | 256907.190000001 | 577969.559999999 | 74               | FALSE            | 1                | 402.1            | \n",
       "| Menterwolde      | 402              | 257016.760000002 | 577777.190000001 | 75               | FALSE            | 1                | 402.1            | \n",
       "| Menterwolde      | 402              | 256983.710000001 | 577628.300000001 | 76               | FALSE            | 1                | 402.1            | \n",
       "| Menterwolde      | 402              | 256701.68        | 577479.230000001 | 77               | FALSE            | 1                | 402.1            | \n",
       "| Menterwolde      | 402              | 256659.295000002 | 576968.096000001 | 78               | FALSE            | 1                | 402.1            | \n",
       "| Menterwolde      | 402              | 256397.955628343 | 576597.851286975 | 79               | FALSE            | 1                | 402.1            | \n",
       "| Menterwolde      | 402              | 258119.392000001 | 576915.061000001 | 80               | FALSE            | 1                | 402.1            | \n",
       "| Menterwolde      | 402              | 258179.440000001 | 576510.083000001 | 81               | FALSE            | 1                | 402.1            | \n",
       "| Menterwolde      | 402              | 258995.693735312 | 576646.695798352 | 82               | FALSE            | 1                | 402.1            | \n",
       "| Menterwolde      | 402              | 259112.752       | 575824.800000001 | 83               | FALSE            | 1                | 402.1            | \n",
       "| Menterwolde      | 402              | 259556.024       | 575811.649       | 84               | FALSE            | 1                | 402.1            | \n",
       "| Menterwolde      | 402              | 259879.827       | 574051.061000001 | 85               | FALSE            | 1                | 402.1            | \n",
       "| Menterwolde      | 402              | 259892.204       | 573383.074999999 | 86               | FALSE            | 1                | 402.1            | \n",
       "| Menterwolde      | 402              | 260015.6383729   | 573223.285349328 | 87               | FALSE            | 1                | 402.1            | \n",
       "| Menterwolde      | 402              | 260025.379687273 | 573103.354818349 | 88               | FALSE            | 1                | 402.1            | \n",
       "| Menterwolde      | 402              | 260330.940000001 | 572041.822999999 | 89               | FALSE            | 1                | 402.1            | \n",
       "| Menterwolde      | 402              | 260277.063000001 | 571993.442000002 | 90               | FALSE            | 1                | 402.1            | \n",
       "| Menterwolde      | 402              | 260699.855       | 570643.794       | 91               | FALSE            | 1                | 402.1            | \n",
       "| Menterwolde      | 402              | 260668.811999999 | 570494.938000001 | 92               | FALSE            | 1                | 402.1            | \n",
       "| Menterwolde      | 402              | 260432.453000002 | 570399.625       | 93               | FALSE            | 1                | 402.1            | \n",
       "| Menterwolde      | 402              | 260230.522       | 571527.787000001 | 94               | FALSE            | 1                | 402.1            | \n",
       "| Menterwolde      | 402              | 259417.649617787 | 571638.612991686 | 95               | FALSE            | 1                | 402.1            | \n",
       "| Menterwolde      | 402              | 258595.390999999 | 571931.800999999 | 96               | FALSE            | 1                | 402.1            | \n",
       "| Menterwolde      | 402              | 256514.48939101  | 572263.8641319   | 97               | FALSE            | 1                | 402.1            | \n",
       "\n",
       "\n"
      ],
      "text/plain": [
       "      name        id  x                y                order hole  piece group\n",
       "1     Appingedam  0   251260.527548325 594393.827234474  1    FALSE 1     0.1  \n",
       "2     Appingedam  0   251427.775868901 594486.747111725  2    FALSE 1     0.1  \n",
       "3     Appingedam  0   251668.842999999 594646.77         3    FALSE 1     0.1  \n",
       "4     Appingedam  0   251713.521000002 594770.885000002  4    FALSE 1     0.1  \n",
       "5     Appingedam  0   251354.585000001 595461.381999999  5    FALSE 1     0.1  \n",
       "6     Appingedam  0   251310.272       596022.542        6    FALSE 1     0.1  \n",
       "7     Appingedam  0   251378.348000001 596179.600000002  7    FALSE 1     0.1  \n",
       "8     Appingedam  0   251581.159000002 596364.682        8    FALSE 1     0.1  \n",
       "9     Appingedam  0   251857.594000001 596435.456        9    FALSE 1     0.1  \n",
       "10    Appingedam  0   251999.263       596313.167       10    FALSE 1     0.1  \n",
       "11    Appingedam  0   252522.096999999 596317.759       11    FALSE 1     0.1  \n",
       "12    Appingedam  0   253549.285       596082.982999999 12    FALSE 1     0.1  \n",
       "13    Appingedam  0   254010.476       596199.699000001 13    FALSE 1     0.1  \n",
       "14    Appingedam  0   254110.228999998 596684.640999999 14    FALSE 1     0.1  \n",
       "15    Appingedam  0   254774.545604002 596453.068541507 15    FALSE 1     0.1  \n",
       "16    Appingedam  0   254793.855       596044.447999999 16    FALSE 1     0.1  \n",
       "17    Appingedam  0   254603.842       595659.224       17    FALSE 1     0.1  \n",
       "18    Appingedam  0   254580.674329913 594573.505689645 18    FALSE 1     0.1  \n",
       "19    Appingedam  0   254695.945764942 594020.436783596 19    FALSE 1     0.1  \n",
       "20    Appingedam  0   254684.212000001 593252.835999999 20    FALSE 1     0.1  \n",
       "21    Appingedam  0   254809.05987424  592703.148436198 21    FALSE 1     0.1  \n",
       "22    Appingedam  0   254983.248221657 592485.982680961 22    FALSE 1     0.1  \n",
       "23    Appingedam  0   255039.969000001 592374.046999998 23    FALSE 1     0.1  \n",
       "24    Appingedam  0   255019.624100701 591246.293555302 24    FALSE 1     0.1  \n",
       "25    Appingedam  0   254500.664000001 591182.758000001 25    FALSE 1     0.1  \n",
       "26    Appingedam  0   254241.324999999 590981.508000001 26    FALSE 1     0.1  \n",
       "27    Appingedam  0   254078.017000001 591023.07        27    FALSE 1     0.1  \n",
       "28    Appingedam  0   253248.169       590838.27        28    FALSE 1     0.1  \n",
       "29    Appingedam  0   253213.868999999 590986.602000002 29    FALSE 1     0.1  \n",
       "30    Appingedam  0   252642.484999999 591018.063999999 30    FALSE 1     0.1  \n",
       "...   ...         ... ...              ...              ...   ...   ...   ...  \n",
       "34928 Menterwolde 402 257780.110712518 579718.625658015 68    FALSE 1     402.1\n",
       "34929 Menterwolde 402 257626.57        579317.969999999 69    FALSE 1     402.1\n",
       "34930 Menterwolde 402 257357.91        579391.66        70    FALSE 1     402.1\n",
       "34931 Menterwolde 402 257171.870000001 579041.07        71    FALSE 1     402.1\n",
       "34932 Menterwolde 402 257057.331504354 578462.329653179 72    FALSE 1     402.1\n",
       "34933 Menterwolde 402 256906.600000002 578256.77        73    FALSE 1     402.1\n",
       "34934 Menterwolde 402 256907.190000001 577969.559999999 74    FALSE 1     402.1\n",
       "34935 Menterwolde 402 257016.760000002 577777.190000001 75    FALSE 1     402.1\n",
       "34936 Menterwolde 402 256983.710000001 577628.300000001 76    FALSE 1     402.1\n",
       "34937 Menterwolde 402 256701.68        577479.230000001 77    FALSE 1     402.1\n",
       "34938 Menterwolde 402 256659.295000002 576968.096000001 78    FALSE 1     402.1\n",
       "34939 Menterwolde 402 256397.955628343 576597.851286975 79    FALSE 1     402.1\n",
       "34940 Menterwolde 402 258119.392000001 576915.061000001 80    FALSE 1     402.1\n",
       "34941 Menterwolde 402 258179.440000001 576510.083000001 81    FALSE 1     402.1\n",
       "34942 Menterwolde 402 258995.693735312 576646.695798352 82    FALSE 1     402.1\n",
       "34943 Menterwolde 402 259112.752       575824.800000001 83    FALSE 1     402.1\n",
       "34944 Menterwolde 402 259556.024       575811.649       84    FALSE 1     402.1\n",
       "34945 Menterwolde 402 259879.827       574051.061000001 85    FALSE 1     402.1\n",
       "34946 Menterwolde 402 259892.204       573383.074999999 86    FALSE 1     402.1\n",
       "34947 Menterwolde 402 260015.6383729   573223.285349328 87    FALSE 1     402.1\n",
       "34948 Menterwolde 402 260025.379687273 573103.354818349 88    FALSE 1     402.1\n",
       "34949 Menterwolde 402 260330.940000001 572041.822999999 89    FALSE 1     402.1\n",
       "34950 Menterwolde 402 260277.063000001 571993.442000002 90    FALSE 1     402.1\n",
       "34951 Menterwolde 402 260699.855       570643.794       91    FALSE 1     402.1\n",
       "34952 Menterwolde 402 260668.811999999 570494.938000001 92    FALSE 1     402.1\n",
       "34953 Menterwolde 402 260432.453000002 570399.625       93    FALSE 1     402.1\n",
       "34954 Menterwolde 402 260230.522       571527.787000001 94    FALSE 1     402.1\n",
       "34955 Menterwolde 402 259417.649617787 571638.612991686 95    FALSE 1     402.1\n",
       "34956 Menterwolde 402 258595.390999999 571931.800999999 96    FALSE 1     402.1\n",
       "34957 Menterwolde 402 256514.48939101  572263.8641319   97    FALSE 1     402.1"
      ]
     },
     "metadata": {},
     "output_type": "display_data"
    }
   ],
   "source": [
    "read.csv2(\"../Sourcedata/nld_municipal_map.csv\", header = TRUE, sep = ';')"
   ]
  },
  {
   "cell_type": "markdown",
   "metadata": {},
   "source": [
    "## Assignment 2b\n",
    "\n",
    "Now you can make an empty map of the Netherlands."
   ]
  },
  {
   "cell_type": "code",
   "execution_count": 55,
   "metadata": {},
   "outputs": [
    {
     "ename": "ERROR",
     "evalue": "Error in AddMapLayer(MapPlot(), map_municipal): could not find function \"AddMapLayer\"\n",
     "output_type": "error",
     "traceback": [
      "Error in AddMapLayer(MapPlot(), map_municipal): could not find function \"AddMapLayer\"\nTraceback:\n"
     ]
    }
   ],
   "source": [
    "AddMapLayer(MapPlot(), map_municipal)"
   ]
  },
  {
   "cell_type": "markdown",
   "metadata": {},
   "source": [
    "## Assignment 2c\n",
    "\n",
    "Read in the pc4 locations (nld_pc4_locations.csv).\n",
    "\n",
    "Hint: Don't forget the X and Y should be numeric variables!"
   ]
  },
  {
   "cell_type": "code",
   "execution_count": 38,
   "metadata": {},
   "outputs": [
    {
     "name": "stdout",
     "output_type": "stream",
     "text": [
      "'data.frame':\t4066 obs. of  3 variables:\n",
      " $ PC4: int  1011 1012 1013 1014 1015 1016 1017 1018 1019 1021 ...\n",
      " $ X  : Factor w/ 4066 levels \"100024.115074611\",..: 528 513 482 460 491 485 502 543 559 544 ...\n",
      " $ Y  : Factor w/ 4066 levels \"308396.770615801\",..: 2500 2509 2557 2552 2518 2497 2473 2487 2501 2529 ...\n"
     ]
    }
   ],
   "source": [
    "pc4_locations <- read.csv2(\"../Sourcedata/nld_pc4_locations.csv\", header = TRUE, sep = ';')\n",
    "str(pc4_locations)"
   ]
  },
  {
   "cell_type": "markdown",
   "metadata": {},
   "source": [
    "## Assignment 2d\n",
    "\n",
    "### 2di\n",
    "\n",
    "Read in the school data\n"
   ]
  },
  {
   "cell_type": "code",
   "execution_count": 39,
   "metadata": {},
   "outputs": [],
   "source": [
    "schools <- read.csv(\"../Sourcedata/schools.csv\")"
   ]
  },
  {
   "cell_type": "markdown",
   "metadata": {},
   "source": [
    "### 2dii\n",
    "\n",
    "First, create a new dataframe schools1, which is equal to schools.\n",
    "\n",
    "As you see POSTCODE has a structure of (1234 AB). You should create a new variable PC4 that is equal to the first 4 numbers in POSTCODE\n",
    "\n",
    "Hint: Use the function `substr()`\n",
    "\n",
    "Then select the variables PC4 and DENOMINATIE"
   ]
  },
  {
   "cell_type": "code",
   "execution_count": 64,
   "metadata": {},
   "outputs": [
    {
     "data": {
      "text/html": [
       "<table>\n",
       "<thead><tr><th scope=col>PROVINCIE.BEVOEGD.GEZAG.NUMMER.BRIN.NUMMER.VESTIGINGSNUMMER.VESTIGINGSNAAM.STRAATNAAM.HUISNUMMER.TOEVOEGING.POSTCODE.PLAATSNAAM.GEMEENTENUMMER.GEMEENTENAAM.DENOMINATIE.TELEFOONNUMMER.INTERNETADRES.ONDERWIJSSTRUCTUUR.STRAATNAAM.CORRESPONDENTIEADRES.HUISNUMMER.TOEVOEGING.CORRESPONDENTIEADRES.POSTCODE.CORRESPONDENTIEADRES.PLAATSNAAM.CORRESPONDENTIEADRES.NODAAL.GEBIED.CODE.NODAAL.GEBIED.NAAM.RPA.GEBIED.CODE.RPA.GEBIED.NAAM.WGR.GEBIED.CODE.WGR.GEBIED.NAAM.COROPGEBIED.CODE.COROPGEBIED.NAAM.ONDERWIJSGEBIED.CODE.ONDERWIJSGEBIED.NAAM.RMC.REGIO.CODE.RMC.REGIO.NAAM</th><th scope=col>PC4</th></tr></thead>\n",
       "<tbody>\n",
       "\t<tr><td>                    ;41152;23HC;23HC04;RSG Lingecollege;                        ;            ;       ;                        ;    ;                        ;Openbaar;          ;                                                                                ;VBO/MAVO;Postbus;56;4000 AB;TIEL;  ;                        ;  ;                        ;  ;                                       ;  ;                                   ;  ;                                ;  ;                                        </td><td>POSTC                                                                                                                                                                                                                                                                                                                                                                                                                                                                                                                       </td></tr>\n",
       "\t<tr><td>Drenthe;10053;18BR;18BR00;School voor Praktijkonderwijs Assen;Zwartwatersweg;202;9406 NN;ASSEN;106;ASSEN;Openbaar;592340973;www.pro-assen.nl;PRO;Zwartwatersweg;202;9406 NN;ASSEN;11;Assen;3;Centraal-Groningen;7;Noord- en Midden-Drenthe;7;Noord-Drenthe;4;Assen-Hoogeveen-Emmen;7;Noord- en Midden Drenthe                                                                                                                                                                                                               </td><td>POSTC                                                                                                                                                                                                                                                                                                                                                                                                                                                                                                                       </td></tr>\n",
       "\t<tr><td>Drenthe;10053;18BR;18BR01;School voor Praktijkonderwijs Assen;Bosrand;2;9401 SL;ASSEN;106;ASSEN;Openbaar;          ;                                                                                ;PRO;Zwartwatersweg;202;9406 NN;ASSEN;11;Assen;3;Centraal-Groningen;7;Noord- en Midden-Drenthe;7;Noord-Drenthe;4;Assen-Hoogeveen-Emmen;7;Noord- en Midden Drenthe                                                                                                                                                       </td><td>POSTC                                                                                                                                                                                                                                                                                                                                                                                                                                                                                                                       </td></tr>\n",
       "\t<tr><td>Drenthe;13273;20LO;20LO00;Openbare Scholengemeenschap Dr Nassau College voor Vwo Havo Mavo Vbo Lwoo;Mr Groen v Prinstererln;98;9402 KG;ASSEN;106;ASSEN;Openbaar;592333111;www.dr.nassaucollege.nl;VBO/HAVO/VWO;Postbus;186;9400 AD;ASSEN;11;Assen;3;Centraal-Groningen;7;Noord- en Midden-Drenthe;7;Noord-Drenthe;4;Assen-Hoogeveen-Emmen;7;Noord- en Midden Drenthe                                                                                                                                                        </td><td>POSTC                                                                                                                                                                                                                                                                                                                                                                                                                                                                                                                       </td></tr>\n",
       "\t<tr><td>Drenthe;13273;20LO;20LO01;Openbare Scholengemeenschap Dr Nassau College voor Vwo Havo Mavo Vbo Lwoo;Schoolstraat;1;9331 AV;NORG;1699;NOORDENVELD;Openbaar;592675750;                                                                                ;VBO/MAVO;Postbus;186;9400 AD;ASSEN;1;Groningen;3;Centraal-Groningen;7;Noord- en Midden-Drenthe;7;Noord-Drenthe;1;Groningen en omstreken;7;Noord- en Midden Drenthe                                                                                                     </td><td>POSTC                                                                                                                                                                                                                                                                                                                                                                                                                                                                                                                       </td></tr>\n",
       "\t<tr><td>Drenthe;13273;20LO;20LO02;Openbare Scholengemeenschap Dr Nassau College voor Vwo Havo Mavo Vbo Lwoo;Esdoornlaan;2;9411 AV;BEILEN;1731;MIDDEN-DRENTHE;Openbaar;593538160;                                                                                ;VBO/MAVO;Postbus;186;9400 AD;ASSEN;11;Assen;5;Zuid- en Midden-Drenthe;7;Noord- en Midden-Drenthe;7;Noord-Drenthe;4;Assen-Hoogeveen-Emmen;7;Noord- en Midden Drenthe                                                                                                </td><td>POSTC                                                                                                                                                                                                                                                                                                                                                                                                                                                                                                                       </td></tr>\n",
       "</tbody>\n",
       "</table>\n"
      ],
      "text/latex": [
       "\\begin{tabular}{r|ll}\n",
       " PROVINCIE.BEVOEGD.GEZAG.NUMMER.BRIN.NUMMER.VESTIGINGSNUMMER.VESTIGINGSNAAM.STRAATNAAM.HUISNUMMER.TOEVOEGING.POSTCODE.PLAATSNAAM.GEMEENTENUMMER.GEMEENTENAAM.DENOMINATIE.TELEFOONNUMMER.INTERNETADRES.ONDERWIJSSTRUCTUUR.STRAATNAAM.CORRESPONDENTIEADRES.HUISNUMMER.TOEVOEGING.CORRESPONDENTIEADRES.POSTCODE.CORRESPONDENTIEADRES.PLAATSNAAM.CORRESPONDENTIEADRES.NODAAL.GEBIED.CODE.NODAAL.GEBIED.NAAM.RPA.GEBIED.CODE.RPA.GEBIED.NAAM.WGR.GEBIED.CODE.WGR.GEBIED.NAAM.COROPGEBIED.CODE.COROPGEBIED.NAAM.ONDERWIJSGEBIED.CODE.ONDERWIJSGEBIED.NAAM.RMC.REGIO.CODE.RMC.REGIO.NAAM & PC4\\\\\n",
       "\\hline\n",
       "\t                     ;41152;23HC;23HC04;RSG Lingecollege;                        ;            ;       ;                        ;    ;                        ;Openbaar;          ;                                                                                ;VBO/MAVO;Postbus;56;4000 AB;TIEL;  ;                        ;  ;                        ;  ;                                       ;  ;                                   ;  ;                                ;  ;                                         & POSTC                                                                                                                                                                                                                                                                                                                                                                                                                                                                                                                       \\\\\n",
       "\t Drenthe;10053;18BR;18BR00;School voor Praktijkonderwijs Assen;Zwartwatersweg;202;9406 NN;ASSEN;106;ASSEN;Openbaar;592340973;www.pro-assen.nl;PRO;Zwartwatersweg;202;9406 NN;ASSEN;11;Assen;3;Centraal-Groningen;7;Noord- en Midden-Drenthe;7;Noord-Drenthe;4;Assen-Hoogeveen-Emmen;7;Noord- en Midden Drenthe                                                                                                                                                                                                                & POSTC                                                                                                                                                                                                                                                                                                                                                                                                                                                                                                                       \\\\\n",
       "\t Drenthe;10053;18BR;18BR01;School voor Praktijkonderwijs Assen;Bosrand;2;9401 SL;ASSEN;106;ASSEN;Openbaar;          ;                                                                                ;PRO;Zwartwatersweg;202;9406 NN;ASSEN;11;Assen;3;Centraal-Groningen;7;Noord- en Midden-Drenthe;7;Noord-Drenthe;4;Assen-Hoogeveen-Emmen;7;Noord- en Midden Drenthe                                                                                                                                                        & POSTC                                                                                                                                                                                                                                                                                                                                                                                                                                                                                                                       \\\\\n",
       "\t Drenthe;13273;20LO;20LO00;Openbare Scholengemeenschap Dr Nassau College voor Vwo Havo Mavo Vbo Lwoo;Mr Groen v Prinstererln;98;9402 KG;ASSEN;106;ASSEN;Openbaar;592333111;www.dr.nassaucollege.nl;VBO/HAVO/VWO;Postbus;186;9400 AD;ASSEN;11;Assen;3;Centraal-Groningen;7;Noord- en Midden-Drenthe;7;Noord-Drenthe;4;Assen-Hoogeveen-Emmen;7;Noord- en Midden Drenthe                                                                                                                                                         & POSTC                                                                                                                                                                                                                                                                                                                                                                                                                                                                                                                       \\\\\n",
       "\t Drenthe;13273;20LO;20LO01;Openbare Scholengemeenschap Dr Nassau College voor Vwo Havo Mavo Vbo Lwoo;Schoolstraat;1;9331 AV;NORG;1699;NOORDENVELD;Openbaar;592675750;                                                                                ;VBO/MAVO;Postbus;186;9400 AD;ASSEN;1;Groningen;3;Centraal-Groningen;7;Noord- en Midden-Drenthe;7;Noord-Drenthe;1;Groningen en omstreken;7;Noord- en Midden Drenthe                                                                                                      & POSTC                                                                                                                                                                                                                                                                                                                                                                                                                                                                                                                       \\\\\n",
       "\t Drenthe;13273;20LO;20LO02;Openbare Scholengemeenschap Dr Nassau College voor Vwo Havo Mavo Vbo Lwoo;Esdoornlaan;2;9411 AV;BEILEN;1731;MIDDEN-DRENTHE;Openbaar;593538160;                                                                                ;VBO/MAVO;Postbus;186;9400 AD;ASSEN;11;Assen;5;Zuid- en Midden-Drenthe;7;Noord- en Midden-Drenthe;7;Noord-Drenthe;4;Assen-Hoogeveen-Emmen;7;Noord- en Midden Drenthe                                                                                                 & POSTC                                                                                                                                                                                                                                                                                                                                                                                                                                                                                                                       \\\\\n",
       "\\end{tabular}\n"
      ],
      "text/markdown": [
       "\n",
       "PROVINCIE.BEVOEGD.GEZAG.NUMMER.BRIN.NUMMER.VESTIGINGSNUMMER.VESTIGINGSNAAM.STRAATNAAM.HUISNUMMER.TOEVOEGING.POSTCODE.PLAATSNAAM.GEMEENTENUMMER.GEMEENTENAAM.DENOMINATIE.TELEFOONNUMMER.INTERNETADRES.ONDERWIJSSTRUCTUUR.STRAATNAAM.CORRESPONDENTIEADRES.HUISNUMMER.TOEVOEGING.CORRESPONDENTIEADRES.POSTCODE.CORRESPONDENTIEADRES.PLAATSNAAM.CORRESPONDENTIEADRES.NODAAL.GEBIED.CODE.NODAAL.GEBIED.NAAM.RPA.GEBIED.CODE.RPA.GEBIED.NAAM.WGR.GEBIED.CODE.WGR.GEBIED.NAAM.COROPGEBIED.CODE.COROPGEBIED.NAAM.ONDERWIJSGEBIED.CODE.ONDERWIJSGEBIED.NAAM.RMC.REGIO.CODE.RMC.REGIO.NAAM | PC4 | \n",
       "|---|---|---|---|---|---|\n",
       "|                     ;41152;23HC;23HC04;RSG Lingecollege;                        ;            ;       ;                        ;    ;                        ;Openbaar;          ;                                                                                ;VBO/MAVO;Postbus;56;4000 AB;TIEL;  ;                        ;  ;                        ;  ;                                       ;  ;                                   ;  ;                                ;  ;                                         | POSTC                                                                                                                                                                                                                                                                                                                                                                                                                                                                                                                        | \n",
       "| Drenthe;10053;18BR;18BR00;School voor Praktijkonderwijs Assen;Zwartwatersweg;202;9406 NN;ASSEN;106;ASSEN;Openbaar;592340973;www.pro-assen.nl;PRO;Zwartwatersweg;202;9406 NN;ASSEN;11;Assen;3;Centraal-Groningen;7;Noord- en Midden-Drenthe;7;Noord-Drenthe;4;Assen-Hoogeveen-Emmen;7;Noord- en Midden Drenthe                                                                                                                                                                                                                | POSTC                                                                                                                                                                                                                                                                                                                                                                                                                                                                                                                        | \n",
       "| Drenthe;10053;18BR;18BR01;School voor Praktijkonderwijs Assen;Bosrand;2;9401 SL;ASSEN;106;ASSEN;Openbaar;          ;                                                                                ;PRO;Zwartwatersweg;202;9406 NN;ASSEN;11;Assen;3;Centraal-Groningen;7;Noord- en Midden-Drenthe;7;Noord-Drenthe;4;Assen-Hoogeveen-Emmen;7;Noord- en Midden Drenthe                                                                                                                                                        | POSTC                                                                                                                                                                                                                                                                                                                                                                                                                                                                                                                        | \n",
       "| Drenthe;13273;20LO;20LO00;Openbare Scholengemeenschap Dr Nassau College voor Vwo Havo Mavo Vbo Lwoo;Mr Groen v Prinstererln;98;9402 KG;ASSEN;106;ASSEN;Openbaar;592333111;www.dr.nassaucollege.nl;VBO/HAVO/VWO;Postbus;186;9400 AD;ASSEN;11;Assen;3;Centraal-Groningen;7;Noord- en Midden-Drenthe;7;Noord-Drenthe;4;Assen-Hoogeveen-Emmen;7;Noord- en Midden Drenthe                                                                                                                                                         | POSTC                                                                                                                                                                                                                                                                                                                                                                                                                                                                                                                        | \n",
       "| Drenthe;13273;20LO;20LO01;Openbare Scholengemeenschap Dr Nassau College voor Vwo Havo Mavo Vbo Lwoo;Schoolstraat;1;9331 AV;NORG;1699;NOORDENVELD;Openbaar;592675750;                                                                                ;VBO/MAVO;Postbus;186;9400 AD;ASSEN;1;Groningen;3;Centraal-Groningen;7;Noord- en Midden-Drenthe;7;Noord-Drenthe;1;Groningen en omstreken;7;Noord- en Midden Drenthe                                                                                                      | POSTC                                                                                                                                                                                                                                                                                                                                                                                                                                                                                                                        | \n",
       "| Drenthe;13273;20LO;20LO02;Openbare Scholengemeenschap Dr Nassau College voor Vwo Havo Mavo Vbo Lwoo;Esdoornlaan;2;9411 AV;BEILEN;1731;MIDDEN-DRENTHE;Openbaar;593538160;                                                                                ;VBO/MAVO;Postbus;186;9400 AD;ASSEN;11;Assen;5;Zuid- en Midden-Drenthe;7;Noord- en Midden-Drenthe;7;Noord-Drenthe;4;Assen-Hoogeveen-Emmen;7;Noord- en Midden Drenthe                                                                                                 | POSTC                                                                                                                                                                                                                                                                                                                                                                                                                                                                                                                        | \n",
       "\n",
       "\n"
      ],
      "text/plain": [
       "  PROVINCIE.BEVOEGD.GEZAG.NUMMER.BRIN.NUMMER.VESTIGINGSNUMMER.VESTIGINGSNAAM.STRAATNAAM.HUISNUMMER.TOEVOEGING.POSTCODE.PLAATSNAAM.GEMEENTENUMMER.GEMEENTENAAM.DENOMINATIE.TELEFOONNUMMER.INTERNETADRES.ONDERWIJSSTRUCTUUR.STRAATNAAM.CORRESPONDENTIEADRES.HUISNUMMER.TOEVOEGING.CORRESPONDENTIEADRES.POSTCODE.CORRESPONDENTIEADRES.PLAATSNAAM.CORRESPONDENTIEADRES.NODAAL.GEBIED.CODE.NODAAL.GEBIED.NAAM.RPA.GEBIED.CODE.RPA.GEBIED.NAAM.WGR.GEBIED.CODE.WGR.GEBIED.NAAM.COROPGEBIED.CODE.COROPGEBIED.NAAM.ONDERWIJSGEBIED.CODE.ONDERWIJSGEBIED.NAAM.RMC.REGIO.CODE.RMC.REGIO.NAAM\n",
       "1                     ;41152;23HC;23HC04;RSG Lingecollege;                        ;            ;       ;                        ;    ;                        ;Openbaar;          ;                                                                                ;VBO/MAVO;Postbus;56;4000 AB;TIEL;  ;                        ;  ;                        ;  ;                                       ;  ;                                   ;  ;                                ;  ;                                                                                            \n",
       "2 Drenthe;10053;18BR;18BR00;School voor Praktijkonderwijs Assen;Zwartwatersweg;202;9406 NN;ASSEN;106;ASSEN;Openbaar;592340973;www.pro-assen.nl;PRO;Zwartwatersweg;202;9406 NN;ASSEN;11;Assen;3;Centraal-Groningen;7;Noord- en Midden-Drenthe;7;Noord-Drenthe;4;Assen-Hoogeveen-Emmen;7;Noord- en Midden Drenthe                                                                                                                                                                                                                                                                   \n",
       "3 Drenthe;10053;18BR;18BR01;School voor Praktijkonderwijs Assen;Bosrand;2;9401 SL;ASSEN;106;ASSEN;Openbaar;          ;                                                                                ;PRO;Zwartwatersweg;202;9406 NN;ASSEN;11;Assen;3;Centraal-Groningen;7;Noord- en Midden-Drenthe;7;Noord-Drenthe;4;Assen-Hoogeveen-Emmen;7;Noord- en Midden Drenthe                                                                                                                                                                                                           \n",
       "4 Drenthe;13273;20LO;20LO00;Openbare Scholengemeenschap Dr Nassau College voor Vwo Havo Mavo Vbo Lwoo;Mr Groen v Prinstererln;98;9402 KG;ASSEN;106;ASSEN;Openbaar;592333111;www.dr.nassaucollege.nl;VBO/HAVO/VWO;Postbus;186;9400 AD;ASSEN;11;Assen;3;Centraal-Groningen;7;Noord- en Midden-Drenthe;7;Noord-Drenthe;4;Assen-Hoogeveen-Emmen;7;Noord- en Midden Drenthe                                                                                                                                                                                                            \n",
       "5 Drenthe;13273;20LO;20LO01;Openbare Scholengemeenschap Dr Nassau College voor Vwo Havo Mavo Vbo Lwoo;Schoolstraat;1;9331 AV;NORG;1699;NOORDENVELD;Openbaar;592675750;                                                                                ;VBO/MAVO;Postbus;186;9400 AD;ASSEN;1;Groningen;3;Centraal-Groningen;7;Noord- en Midden-Drenthe;7;Noord-Drenthe;1;Groningen en omstreken;7;Noord- en Midden Drenthe                                                                                                                                                         \n",
       "6 Drenthe;13273;20LO;20LO02;Openbare Scholengemeenschap Dr Nassau College voor Vwo Havo Mavo Vbo Lwoo;Esdoornlaan;2;9411 AV;BEILEN;1731;MIDDEN-DRENTHE;Openbaar;593538160;                                                                                ;VBO/MAVO;Postbus;186;9400 AD;ASSEN;11;Assen;5;Zuid- en Midden-Drenthe;7;Noord- en Midden-Drenthe;7;Noord-Drenthe;4;Assen-Hoogeveen-Emmen;7;Noord- en Midden Drenthe                                                                                                                                                    \n",
       "  PC4  \n",
       "1 POSTC\n",
       "2 POSTC\n",
       "3 POSTC\n",
       "4 POSTC\n",
       "5 POSTC\n",
       "6 POSTC"
      ]
     },
     "metadata": {},
     "output_type": "display_data"
    }
   ],
   "source": [
    "schools1 <- schools \n",
    "schools1$PC4 <- substr('POSTCODE', 0,5) \n",
    "head(schools1)"
   ]
  },
  {
   "cell_type": "markdown",
   "metadata": {},
   "source": [
    "### 2diii\n",
    "\n",
    "Create the dataframe school_loc as a join from pc4_locations and school1 that combines the columns from both data frames, but only keeps rows where the value in the pc4_locations column matches in both data frames.\n",
    "And then select the observations with DENOMINATIE is equal to \"Rooms-Katholiek\" or \"Protestants-Christelijk\""
   ]
  },
  {
   "cell_type": "code",
   "execution_count": 44,
   "metadata": {},
   "outputs": [
    {
     "ename": "ERROR",
     "evalue": "Error: `by` can't contain join column `id` which is missing from LHS\n",
     "output_type": "error",
     "traceback": [
      "Error: `by` can't contain join column `id` which is missing from LHS\nTraceback:\n",
      "1. full_join(pc4_locations, schools1, by = \"id\")",
      "2. full_join.data.frame(pc4_locations, schools1, by = \"id\")",
      "3. as.data.frame(full_join(tbl_df(x), y, by = by, copy = copy, ...))",
      "4. full_join(tbl_df(x), y, by = by, copy = copy, ...)",
      "5. full_join.tbl_df(tbl_df(x), y, by = by, copy = copy, ...)",
      "6. common_by(by, x, y)",
      "7. common_by.character(by, x, y)",
      "8. common_by.list(by, x, y)",
      "9. bad_args(\"by\", \"can't contain join column {missing} which is missing from LHS\", \n .     missing = fmt_obj(setdiff(by$x, x_vars)))",
      "10. glubort(fmt_args(args), ..., .envir = .envir)",
      "11. .abort(text)"
     ]
    }
   ],
   "source": [
    "school_loc <- full_join(pc4_locations, schools1, by = 'id')"
   ]
  },
  {
   "cell_type": "markdown",
   "metadata": {},
   "source": [
    "## Assignment 2e\n",
    "\n",
    "Create a map of Catholic and Protestant schools in the Netherlands\n"
   ]
  },
  {
   "cell_type": "code",
   "execution_count": null,
   "metadata": {},
   "outputs": [],
   "source": [
    " "
   ]
  },
  {
   "cell_type": "markdown",
   "metadata": {},
   "source": [
    "End of notebook"
   ]
  }
 ],
 "metadata": {
  "anaconda-cloud": {},
  "kernelspec": {
   "display_name": "R",
   "language": "R",
   "name": "ir"
  },
  "language_info": {
   "codemirror_mode": "r",
   "file_extension": ".r",
   "mimetype": "text/x-r-source",
   "name": "R",
   "pygments_lexer": "r",
   "version": "3.4.3"
  }
 },
 "nbformat": 4,
 "nbformat_minor": 1
}
